{
 "cells": [
  {
   "cell_type": "code",
   "execution_count": 1,
   "id": "3649dab3-e007-47b3-9e2c-4dfe6fa3167c",
   "metadata": {},
   "outputs": [],
   "source": [
    "from pprint import pprint\n",
    "from collections import Counter, defaultdict\n",
    "\n",
    "from matplotlib import pyplot\n",
    "\n",
    "from brickmapper import Mapper\n",
    "from brickmapper.bedes_parser.bedes_parser import BedesParser\n",
    "from brickmapper.buildingsync.buildingsync_parser import BuildingSyncParser\n"
   ]
  },
  {
   "cell_type": "code",
   "execution_count": 2,
   "id": "d0456d17-0697-4498-a9e1-86d810f45745",
   "metadata": {},
   "outputs": [],
   "source": [
    "\"\"\"Get BEDES defns\"\"\"\n",
    "bedes = BedesParser('v2.5')\n",
    "bedes_defns = bedes._get_term_definitions()\n",
    "\n",
    "# bedes_defns"
   ]
  },
  {
   "cell_type": "code",
   "execution_count": 3,
   "id": "07edb751-89bb-4a55-b941-44bc16a89289",
   "metadata": {
    "scrolled": true
   },
   "outputs": [],
   "source": [
    "\"\"\"Get BuildingSync defns\"\"\"\n",
    "buildingsync_parser = BuildingSyncParser()\n",
    "buildingsync_defns = buildingsync_parser._get_term_definitions()\n",
    "\n",
    "# buildingsync_defns"
   ]
  },
  {
   "cell_type": "code",
   "execution_count": 4,
   "id": "f1003ee7-aed3-40ed-959a-52d7889f4270",
   "metadata": {},
   "outputs": [
    {
     "name": "stderr",
     "output_type": "stream",
     "text": [
      "\u001b[32m2025-01-16 12:34:43.575\u001b[0m | \u001b[1mINFO    \u001b[0m | \u001b[36mbrickmapper\u001b[0m:\u001b[36mpopulate_external_embeddings\u001b[0m:\u001b[36m48\u001b[0m - \u001b[1mRestoring ./indices/bedes.ollama.index...\u001b[0m\n",
      "\u001b[32m2025-01-16 12:34:43.579\u001b[0m | \u001b[1mINFO    \u001b[0m | \u001b[36mbrickmapper\u001b[0m:\u001b[36mpopulate_external_embeddings\u001b[0m:\u001b[36m48\u001b[0m - \u001b[1mRestoring ./indices/buidingsync.ollama.index...\u001b[0m\n"
     ]
    }
   ],
   "source": [
    "\"\"\"Create Mapper\"\"\"\n",
    "mapper = Mapper(\n",
    "    first_definitions=bedes_defns,\n",
    "    first_index_file=\"./indices/bedes.ollama.index\",\n",
    "    second_definitions=buildingsync_defns,\n",
    "    second_index_file=\"./indices/buidingsync.ollama.index\"\n",
    ")\n"
   ]
  },
  {
   "cell_type": "code",
   "execution_count": 5,
   "id": "a6017c90-b295-444b-8d30-05a31b4f7917",
   "metadata": {},
   "outputs": [],
   "source": [
    "\"\"\"Get Mappings\"\"\"\n",
    "top_k = 3\n",
    "threshold = .3\n",
    "results = mapper.get_mappings_with_collisions(top_k, threshold)\n",
    "\n",
    "# results"
   ]
  },
  {
   "cell_type": "code",
   "execution_count": 6,
   "id": "789e5947-1493-4391-aef2-bf8d658c5ae8",
   "metadata": {},
   "outputs": [
    {
     "name": "stdout",
     "output_type": "stream",
     "text": [
      "the threshold was a distance of 0.3:\n",
      "\t 172 defintitons had 0 results below threshold\n",
      "\t 90 defintitons had 1 results below threshold\n",
      "\t 314 defintitons had 3 results below threshold\n",
      "\t 83 defintitons had 2 results below threshold\n",
      "\n",
      "\n",
      "here are some of the defintions with no matches:\n",
      "['Assessment Compliance Target Date',\n",
      " 'Assessment Program URL',\n",
      " 'Class Height',\n",
      " 'Construction Status',\n",
      " 'Distance To Freeway']\n",
      "\n",
      "\n",
      "here's a histogram of score, groups by the rank of the match\n"
     ]
    },
    {
     "data": {
      "image/png": "[encoded data removed]",
      "text/plain": [
       "<Figure size 640x480 with 1 Axes>"
      ]
     },
     "metadata": {},
     "output_type": "display_data"
    }
   ],
   "source": [
    "\"\"\"Some quick analysis\"\"\"\n",
    "\n",
    "number_of_suggestions_above_threshold = [len(r) for r in results.values()]\n",
    "print(f\"the threshold was a distance of {threshold}:\")\n",
    "for num_results, num_with_num_results in Counter(number_of_suggestions_above_threshold).items():\n",
    "    print(f\"\\t {num_with_num_results} defintitons had {num_results} results below threshold\")\n",
    "\n",
    "print(\"\\n\\nhere are some of the defintions with no matches:\")\n",
    "pprint([name for name, r in results.items() if len(r) == 0][:5])\n",
    "\n",
    "scores_by_rank = defaultdict(list)\n",
    "for r in results.values():\n",
    "    for rank, (_, score) in enumerate(r):\n",
    "        scores_by_rank[rank].append(score)\n",
    "\n",
    "print(\"\\n\\nhere's a histogram of score, groups by the rank of the match\")\n",
    "for rank in range(top_k):\n",
    "    pyplot.hist(scores_by_rank[rank], alpha=0.5, label=rank+1)\n",
    "    \n",
    "pyplot.legend(loc='upper right')\n",
    "pyplot.show()\n",
    "\n"
   ]
  },
  {
   "cell_type": "code",
   "execution_count": 7,
   "id": "838c90f3-ca1c-41da-803d-466b465a826b",
   "metadata": {},
   "outputs": [
    {
     "name": "stdout",
     "output_type": "stream",
     "text": [
      "Some of the best matches for rank 1 are:\n",
      "[('Boiler Blowdown Rate', ('Boiler', np.float32(0.29980808))),\n",
      " ('Assessment Program Organization', ('PremisesName', np.float32(0.29883963))),\n",
      " ('Income', ('AnalysisPeriod', np.float32(0.2988009))),\n",
      " ('Offset', ('XOffset', np.float32(0.29877102))),\n",
      " ('Ev', ('InputVoltage', np.float32(0.298257)))]\n",
      "\n",
      "\n",
      "Some of the best matches for rank 2 are:\n",
      "[('Condensing Operation',\n",
      "  ('BoilerPercentCondensateReturn', np.float32(0.2998863))),\n",
      " ('Quantity', ('NumberOfUnits', np.float32(0.2997564))),\n",
      " ('System Performance Ratio', ('OtherHVAC', np.float32(0.29955733))),\n",
      " ('Equipment Redundancy', ('HVACControlSystemType', np.float32(0.29947942))),\n",
      " ('Occupant Income Range', ('OccupantType', np.float32(0.29934973)))]\n",
      "\n",
      "\n",
      "Some of the best matches for rank 3 are:\n",
      "[('System Performance Ratio',\n",
      "  ('AnnualHeatingEfficiencyValue', np.float32(0.2996419))),\n",
      " ('Pipe Application', ('OtherHVAC', np.float32(0.29942948))),\n",
      " ('Cost Effectiveness Screening Method',\n",
      "  ('MeasureSavingsAnalysis', np.float32(0.29942936))),\n",
      " ('Water Metered Premises',\n",
      "  ('LocationsOfExteriorWaterIntrusionDamage', np.float32(0.2991801))),\n",
      " ('Technology Category', ('TypeOfResourceMeter', np.float32(0.29889822)))]\n",
      "\n",
      "\n"
     ]
    }
   ],
   "source": [
    "for rank in range(top_k):\n",
    "    results_with_rank = [r for r in results.items() if len(r[1]) > rank]\n",
    "    best_matches = sorted(results_with_rank, key=lambda x: -1 * x[1][rank][1])\n",
    "    print(f\"Some of the best matches for rank {rank + 1} are:\")\n",
    "    pprint([(m[0], m[1][rank]) for m in best_matches[:5]])\n",
    "    print(\"\\n\")\n"
   ]
  },
  {
   "cell_type": "code",
   "execution_count": null,
   "id": "58aa7eb6-3196-4837-815b-7db168f57e16",
   "metadata": {},
   "outputs": [],
   "source": []
  }
 ],
 "metadata": {
  "kernelspec": {
   "display_name": "Python 3 (ipykernel)",
   "language": "python",
   "name": "python3"
  },
  "language_info": {
   "codemirror_mode": {
    "name": "ipython",
    "version": 3
   },
   "file_extension": ".py",
   "mimetype": "text/x-python",
   "name": "python",
   "nbconvert_exporter": "python",
   "pygments_lexer": "ipython3",
   "version": "3.10.0"
  },
  "widgets": {
   "application/vnd.jupyter.widget-state+json": {
    "state": {},
    "version_major": 2,
    "version_minor": 0
   }
  }
 },
 "nbformat": 4,
 "nbformat_minor": 5
}
